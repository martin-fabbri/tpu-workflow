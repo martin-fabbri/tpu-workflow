{
  "nbformat": 4,
  "nbformat_minor": 0,
  "metadata": {
    "colab": {
      "name": "checkpoints-colab.ipynb",
      "provenance": [],
      "collapsed_sections": [],
      "authorship_tag": "ABX9TyNo58zCDiWnHW/K1M64K9JE",
      "include_colab_link": true
    },
    "kernelspec": {
      "name": "python3",
      "display_name": "Python 3"
    },
    "accelerator": "TPU"
  },
  "cells": [
    {
      "cell_type": "markdown",
      "metadata": {
        "id": "view-in-github",
        "colab_type": "text"
      },
      "source": [
        "<a href=\"https://colab.research.google.com/github/martin-fabbri/tpu-workflow/blob/main/notebooks/tpu_checkpoints_colab.ipynb\" target=\"_parent\"><img src=\"https://colab.research.google.com/assets/colab-badge.svg\" alt=\"Open In Colab\"/></a>"
      ]
    },
    {
      "cell_type": "markdown",
      "metadata": {
        "id": "bEnPyDQ9O9KP"
      },
      "source": [
        "# Save and load checkpoints"
      ]
    },
    {
      "cell_type": "code",
      "metadata": {
        "id": "mRM4dTHkm3px"
      },
      "source": [
        "%%capture\r\n",
        "!git clone https://github.com/martin-fabbri/tpu-workflow.git"
      ],
      "execution_count": 1,
      "outputs": []
    },
    {
      "cell_type": "code",
      "metadata": {
        "colab": {
          "base_uri": "https://localhost:8080/"
        },
        "id": "oG0M4umroTU_",
        "outputId": "11ee89b7-4de8-4ca3-da97-1bf57dd89844"
      },
      "source": [
        "%cd /content/tpu-workflow/"
      ],
      "execution_count": 2,
      "outputs": [
        {
          "output_type": "stream",
          "text": [
            "/content/tpu-workflow\n"
          ],
          "name": "stdout"
        }
      ]
    },
    {
      "cell_type": "code",
      "metadata": {
        "id": "jKCG8fxZnRsD"
      },
      "source": [
        "%%capture\r\n",
        "!pip install --upgrade --pre dvc"
      ],
      "execution_count": 3,
      "outputs": []
    },
    {
      "cell_type": "code",
      "metadata": {
        "colab": {
          "base_uri": "https://localhost:8080/"
        },
        "id": "hn0nhc3vnbIq",
        "outputId": "74f7389d-6c40-43a0-8547-7c057dc721f6"
      },
      "source": [
        "!pip list | grep \"dvc\\|tensorflow\""
      ],
      "execution_count": 4,
      "outputs": [
        {
          "output_type": "stream",
          "text": [
            "dvc                           2.0.0a2       \n",
            "tensorflow                    2.4.1         \n",
            "tensorflow-datasets           4.0.1         \n",
            "tensorflow-estimator          2.4.0         \n",
            "tensorflow-gcs-config         2.4.0         \n",
            "tensorflow-hub                0.11.0        \n",
            "tensorflow-metadata           0.28.0        \n",
            "tensorflow-probability        0.12.1        \n"
          ],
          "name": "stdout"
        }
      ]
    },
    {
      "cell_type": "code",
      "metadata": {
        "colab": {
          "base_uri": "https://localhost:8080/"
        },
        "id": "KKqmMrQPnxx8",
        "outputId": "39367139-25e2-4ec0-9803-c44e5cf7a1ce"
      },
      "source": [
        "!dvc pull -r origin"
      ],
      "execution_count": 5,
      "outputs": [
        {
          "output_type": "stream",
          "text": [
            "Downloading:   0% 0/5 [00:00<?, ?file/s{'info': ''}]\n",
            "!\u001b[A\n",
            "plots/train_accuracy_plot.json          |0.00 [00:00,       ?it/s]\u001b[A\n",
            "Downloading:  20% 1/5 [00:00<00:02,  1.83file/s{'info': ''}]\n",
            "!\u001b[A\n",
            "data/interim/train_split.json          |0.00 [00:00,       ?it/s]\u001b[A\n",
            "                                                                 \u001b[A\n",
            "!\u001b[A\n",
            "data/interim/val_split.json          |0.00 [00:00,       ?it/s]\u001b[A\n",
            "                                                               \u001b[A\n",
            "!\u001b[A\n",
            "data/interim/images_count.json          |0.00 [00:00,       ?it/s]\u001b[A\n",
            "                                                                  \u001b[A\n",
            "!\u001b[A\n",
            "models/xception_model.h5          |0.00 [00:00,       ?it/s]\u001b[A\n",
            "models/xception_model.h5          |259k [00:00,    2.64MB/s]\u001b[A\n",
            "models/xception_model.h5          |1.51M [00:00,    8.85MB/s]\u001b[A\n",
            "models/xception_model.h5          |7.84M [00:00,    35.1MB/s]\u001b[A\n",
            "models/xception_model.h5          |14.9M [00:00,    50.5MB/s]\u001b[A\n",
            "models/xception_model.h5          |25.6M [00:00,    72.8MB/s]\u001b[A\n",
            "models/xception_model.h5          |32.6M [00:00,    72.5MB/s]\u001b[A\n",
            "models/xception_model.h5          |41.4M [00:00,    79.0MB/s]\u001b[A\n",
            "models/xception_model.h5          |49.5M [00:00,    80.7MB/s]\u001b[A\n",
            "models/xception_model.h5          |57.2M [00:00,    80.2MB/s]\u001b[A\n",
            "models/xception_model.h5          |64.8M [00:01,    74.5MB/s]\u001b[A\n",
            "models/xception_model.h5          |75.6M [00:01,    85.5MB/s]\u001b[A\n",
            "models/xception_model.h5          |83.9M [00:01,    76.6MB/s]\u001b[A\n",
            "models/xception_model.h5          |93.7M [00:01,    83.8MB/s]\u001b[A\n",
            "models/xception_model.h5          |102M [00:01,    84.2MB/s] \u001b[A\n",
            "models/xception_model.h5          |110M [00:01,    80.1MB/s]\u001b[A\n",
            "models/xception_model.h5          |118M [00:01,    80.6MB/s]\u001b[A\n",
            "models/xception_model.h5          |126M [00:01,    66.6MB/s]\u001b[A\n",
            "models/xception_model.h5          |135M [00:01,    72.8MB/s]\u001b[A\n",
            "models/xception_model.h5          |143M [00:02,    76.1MB/s]\u001b[A\n",
            "models/xception_model.h5          |150M [00:02,    76.4MB/s]\u001b[A\n",
            "models/xception_model.h5          |159M [00:02,    81.3MB/s]\u001b[A\n",
            "models/xception_model.h5          |167M [00:02,    78.2MB/s]\u001b[A\n",
            "models/xception_model.h5          |176M [00:02,    82.3MB/s]\u001b[A\n",
            "models/xception_model.h5          |184M [00:02,    77.6MB/s]\u001b[A\n",
            "models/xception_model.h5          |192M [00:02,    77.8MB/s]\u001b[A\n",
            "models/xception_model.h5          |201M [00:02,    82.7MB/s]\u001b[A\n",
            "models/xception_model.h5          |209M [00:02,    79.8MB/s]\u001b[A\n",
            "models/xception_model.h5          |218M [00:03,    84.9MB/s]\u001b[A\n",
            "models/xception_model.h5          |226M [00:03,    83.9MB/s]\u001b[A\n",
            "models/xception_model.h5          |234M [00:03,    84.1MB/s]\u001b[A\n",
            "Checkout:   0% 0/5 [00:00<?, ?file/s{'info': ''}]\n",
            ".KcFxjcWKUdzVpKr5ZQ6YhT.tmp:   0% 0.00/251M [00:00<?, ?it/s]\u001b[A\n",
            ".KcFxjcWKUdzVpKr5ZQ6YhT.tmp:   0% 0.00/251M [00:00<?, ?it/s{'info': ''}]\u001b[A\n",
            ".KcFxjcWKUdzVpKr5ZQ6YhT.tmp:  28% 66.0M/239M [00:00<00:00, 692MB/s{'info': ''}]\u001b[A\n",
            ".KcFxjcWKUdzVpKr5ZQ6YhT.tmp:  55% 132M/239M [00:00<00:00, 502MB/s{'info': ''}] \u001b[A\n",
            ".KcFxjcWKUdzVpKr5ZQ6YhT.tmp:  77% 183M/239M [00:00<00:00, 505MB/s{'info': ''}]\u001b[A\n",
            " 20% 1/5 [00:00<00:01,  2.09file/s{'info': ' models/xception_model.h5 |'}]\n",
            ".Kq6khvvotj5mCUMbyZwr4E.tmp:   0% 0.00/1.58k [00:00<?, ?it/s]\u001b[A\n",
            ".Kq6khvvotj5mCUMbyZwr4E.tmp:   0% 0.00/1.58k [00:00<?, ?it/s{'info': ''}]\u001b[A\n",
            " 40% 2/5 [00:01<00:02,  1.29file/s{'info': ' plots/train_accuracy_plot.json |'}]\n",
            ".FEZ7uGQdNjXA8TJe2FfoPf.tmp:   0% 0/962 [00:00<?, ?it/s]\u001b[A\n",
            ".FEZ7uGQdNjXA8TJe2FfoPf.tmp:   0% 0/962 [00:00<?, ?it/s{'info': ''}]\u001b[A\n",
            "                                                                    \u001b[A\n",
            ".64P2uT5QtBh33f42aFvUNP.tmp:   0% 0/222 [00:00<?, ?it/s]\u001b[A\n",
            ".64P2uT5QtBh33f42aFvUNP.tmp:   0% 0/222 [00:00<?, ?it/s{'info': ''}]\u001b[A\n",
            "                                                                    \u001b[A\n",
            ".cT4v243xoMfW7oXDybU89S.tmp:   0% 0/59 [00:00<?, ?it/s]\u001b[A\n",
            ".cT4v243xoMfW7oXDybU89S.tmp:   0% 0/59 [00:00<?, ?it/s{'info': ''}]\u001b[A\n",
            "\u001b[32mA\u001b[39m\tmodels/xception_model.h5\n",
            "\u001b[32mA\u001b[39m\tplots/train_accuracy_plot.json\n",
            "\u001b[32mA\u001b[39m\tdata/interim/train_split.json\n",
            "\u001b[32mA\u001b[39m\tdata/interim/val_split.json\n",
            "\u001b[32mA\u001b[39m\tdata/interim/images_count.json\n",
            "5 files added and 5 files fetched\n",
            "\u001b[0m"
          ],
          "name": "stdout"
        }
      ]
    },
    {
      "cell_type": "code",
      "metadata": {
        "colab": {
          "base_uri": "https://localhost:8080/"
        },
        "id": "sLoMUZVqv_0z",
        "outputId": "706a08c6-bf9c-412a-dc10-49e0ddc01e91"
      },
      "source": [
        "#!dvc repro"
      ],
      "execution_count": null,
      "outputs": [
        {
          "output_type": "stream",
          "text": [
            "\r!\rIf DVC froze, see `hardlink_lock` in <\u001b[36mhttps://man.dvc.org/config#core\u001b[39m>\r                                                                      \r\u001b[31mERROR\u001b[39m: failed to reproduce 'dvc.yaml': Could not automatically determine credentials. Please set GOOGLE_APPLICATION_CREDENTIALS or explicitly create credentials and re-run the application. For more information, please see https://cloud.google.com/docs/authentication/getting-started\n",
            "\u001b[0m"
          ],
          "name": "stdout"
        }
      ]
    },
    {
      "cell_type": "code",
      "metadata": {
        "colab": {
          "base_uri": "https://localhost:8080/"
        },
        "id": "RkfCx3SUpr5l",
        "outputId": "64bdbb4f-2684-4e0f-9656-ec68f9874ea4"
      },
      "source": [
        "!pwd"
      ],
      "execution_count": 6,
      "outputs": [
        {
          "output_type": "stream",
          "text": [
            "/content/tpu-workflow\n"
          ],
          "name": "stdout"
        }
      ]
    },
    {
      "cell_type": "code",
      "metadata": {
        "colab": {
          "base_uri": "https://localhost:8080/"
        },
        "id": "MvHlBlJMoHYE",
        "outputId": "ed9a551f-f5e4-4863-88b1-0962b95cc603"
      },
      "source": [
        "import os\r\n",
        "import sys\r\n",
        "from pathlib import Path\r\n",
        "\r\n",
        "path = Path(os.getcwd())\r\n",
        "src_path = str(path/\"src\")\r\n",
        "sys.path.append(src_path)\r\n",
        "sys.path\r\n",
        "path"
      ],
      "execution_count": 7,
      "outputs": [
        {
          "output_type": "execute_result",
          "data": {
            "text/plain": [
              "PosixPath('/content/tpu-workflow')"
            ]
          },
          "metadata": {
            "tags": []
          },
          "execution_count": 7
        }
      ]
    },
    {
      "cell_type": "code",
      "metadata": {
        "colab": {
          "base_uri": "https://localhost:8080/"
        },
        "id": "tVmqcvCQpI8L",
        "outputId": "6648fc00-f185-4018-a5c4-8b20fea0972e"
      },
      "source": [
        "import json\r\n",
        "\r\n",
        "import numpy as np\r\n",
        "import tensorflow as tf\r\n",
        "import yaml\r\n",
        "from matplotlib import pyplot as plt\r\n",
        "from models.xception_ft_model import create_xception_ft_model\r\n",
        "from pipeline.train_utils import (\r\n",
        "    MapDict,\r\n",
        "    get_training_dataset,\r\n",
        "    get_validation_dataset,\r\n",
        "    load_dataset,\r\n",
        "    lrfn,\r\n",
        "    to_float32,\r\n",
        ")\r\n",
        "from tensorflow.keras.callbacks import ModelCheckpoint, LearningRateScheduler\r\n",
        "\r\n",
        "print(\"tensorflow\", tf.__version__)"
      ],
      "execution_count": 8,
      "outputs": [
        {
          "output_type": "stream",
          "text": [
            "tensorflow 2.4.1\n"
          ],
          "name": "stdout"
        }
      ]
    },
    {
      "cell_type": "code",
      "metadata": {
        "colab": {
          "base_uri": "https://localhost:8080/"
        },
        "id": "bSdZx-BHqG-1",
        "outputId": "0168e0da-605e-4a1d-9673-f7d08de3f061"
      },
      "source": [
        "try:\r\n",
        "    tpu = tf.distribute.cluster_resolver.TPUClusterResolver()\r\n",
        "    tf.config.experimental_connect_to_cluster(tpu)\r\n",
        "    tf.tpu.experimental.initialize_tpu_system(tpu)\r\n",
        "    strategy = tf.distribute.experimental.TPUStrategy(tpu)\r\n",
        "except ValueError:\r\n",
        "    strategy = tf.distribute.MirroredStrategy()\r\n",
        "print(\"Number of accelerators\", strategy.num_replicas_in_sync)"
      ],
      "execution_count": 9,
      "outputs": [
        {
          "output_type": "stream",
          "text": [
            "INFO:tensorflow:Initializing the TPU system: grpc://10.15.132.18:8470\n"
          ],
          "name": "stdout"
        },
        {
          "output_type": "stream",
          "text": [
            "INFO:tensorflow:Initializing the TPU system: grpc://10.15.132.18:8470\n"
          ],
          "name": "stderr"
        },
        {
          "output_type": "stream",
          "text": [
            "INFO:tensorflow:Clearing out eager caches\n"
          ],
          "name": "stdout"
        },
        {
          "output_type": "stream",
          "text": [
            "INFO:tensorflow:Clearing out eager caches\n"
          ],
          "name": "stderr"
        },
        {
          "output_type": "stream",
          "text": [
            "INFO:tensorflow:Finished initializing TPU system.\n"
          ],
          "name": "stdout"
        },
        {
          "output_type": "stream",
          "text": [
            "INFO:tensorflow:Finished initializing TPU system.\n",
            "WARNING:absl:`tf.distribute.experimental.TPUStrategy` is deprecated, please use  the non experimental symbol `tf.distribute.TPUStrategy` instead.\n"
          ],
          "name": "stderr"
        },
        {
          "output_type": "stream",
          "text": [
            "INFO:tensorflow:Found TPU system:\n"
          ],
          "name": "stdout"
        },
        {
          "output_type": "stream",
          "text": [
            "INFO:tensorflow:Found TPU system:\n"
          ],
          "name": "stderr"
        },
        {
          "output_type": "stream",
          "text": [
            "INFO:tensorflow:*** Num TPU Cores: 8\n"
          ],
          "name": "stdout"
        },
        {
          "output_type": "stream",
          "text": [
            "INFO:tensorflow:*** Num TPU Cores: 8\n"
          ],
          "name": "stderr"
        },
        {
          "output_type": "stream",
          "text": [
            "INFO:tensorflow:*** Num TPU Workers: 1\n"
          ],
          "name": "stdout"
        },
        {
          "output_type": "stream",
          "text": [
            "INFO:tensorflow:*** Num TPU Workers: 1\n"
          ],
          "name": "stderr"
        },
        {
          "output_type": "stream",
          "text": [
            "INFO:tensorflow:*** Num TPU Cores Per Worker: 8\n"
          ],
          "name": "stdout"
        },
        {
          "output_type": "stream",
          "text": [
            "INFO:tensorflow:*** Num TPU Cores Per Worker: 8\n"
          ],
          "name": "stderr"
        },
        {
          "output_type": "stream",
          "text": [
            "INFO:tensorflow:*** Available Device: _DeviceAttributes(/job:localhost/replica:0/task:0/device:CPU:0, CPU, 0, 0)\n"
          ],
          "name": "stdout"
        },
        {
          "output_type": "stream",
          "text": [
            "INFO:tensorflow:*** Available Device: _DeviceAttributes(/job:localhost/replica:0/task:0/device:CPU:0, CPU, 0, 0)\n"
          ],
          "name": "stderr"
        },
        {
          "output_type": "stream",
          "text": [
            "INFO:tensorflow:*** Available Device: _DeviceAttributes(/job:worker/replica:0/task:0/device:CPU:0, CPU, 0, 0)\n"
          ],
          "name": "stdout"
        },
        {
          "output_type": "stream",
          "text": [
            "INFO:tensorflow:*** Available Device: _DeviceAttributes(/job:worker/replica:0/task:0/device:CPU:0, CPU, 0, 0)\n"
          ],
          "name": "stderr"
        },
        {
          "output_type": "stream",
          "text": [
            "INFO:tensorflow:*** Available Device: _DeviceAttributes(/job:worker/replica:0/task:0/device:TPU:0, TPU, 0, 0)\n"
          ],
          "name": "stdout"
        },
        {
          "output_type": "stream",
          "text": [
            "INFO:tensorflow:*** Available Device: _DeviceAttributes(/job:worker/replica:0/task:0/device:TPU:0, TPU, 0, 0)\n"
          ],
          "name": "stderr"
        },
        {
          "output_type": "stream",
          "text": [
            "INFO:tensorflow:*** Available Device: _DeviceAttributes(/job:worker/replica:0/task:0/device:TPU:1, TPU, 0, 0)\n"
          ],
          "name": "stdout"
        },
        {
          "output_type": "stream",
          "text": [
            "INFO:tensorflow:*** Available Device: _DeviceAttributes(/job:worker/replica:0/task:0/device:TPU:1, TPU, 0, 0)\n"
          ],
          "name": "stderr"
        },
        {
          "output_type": "stream",
          "text": [
            "INFO:tensorflow:*** Available Device: _DeviceAttributes(/job:worker/replica:0/task:0/device:TPU:2, TPU, 0, 0)\n"
          ],
          "name": "stdout"
        },
        {
          "output_type": "stream",
          "text": [
            "INFO:tensorflow:*** Available Device: _DeviceAttributes(/job:worker/replica:0/task:0/device:TPU:2, TPU, 0, 0)\n"
          ],
          "name": "stderr"
        },
        {
          "output_type": "stream",
          "text": [
            "INFO:tensorflow:*** Available Device: _DeviceAttributes(/job:worker/replica:0/task:0/device:TPU:3, TPU, 0, 0)\n"
          ],
          "name": "stdout"
        },
        {
          "output_type": "stream",
          "text": [
            "INFO:tensorflow:*** Available Device: _DeviceAttributes(/job:worker/replica:0/task:0/device:TPU:3, TPU, 0, 0)\n"
          ],
          "name": "stderr"
        },
        {
          "output_type": "stream",
          "text": [
            "INFO:tensorflow:*** Available Device: _DeviceAttributes(/job:worker/replica:0/task:0/device:TPU:4, TPU, 0, 0)\n"
          ],
          "name": "stdout"
        },
        {
          "output_type": "stream",
          "text": [
            "INFO:tensorflow:*** Available Device: _DeviceAttributes(/job:worker/replica:0/task:0/device:TPU:4, TPU, 0, 0)\n"
          ],
          "name": "stderr"
        },
        {
          "output_type": "stream",
          "text": [
            "INFO:tensorflow:*** Available Device: _DeviceAttributes(/job:worker/replica:0/task:0/device:TPU:5, TPU, 0, 0)\n"
          ],
          "name": "stdout"
        },
        {
          "output_type": "stream",
          "text": [
            "INFO:tensorflow:*** Available Device: _DeviceAttributes(/job:worker/replica:0/task:0/device:TPU:5, TPU, 0, 0)\n"
          ],
          "name": "stderr"
        },
        {
          "output_type": "stream",
          "text": [
            "INFO:tensorflow:*** Available Device: _DeviceAttributes(/job:worker/replica:0/task:0/device:TPU:6, TPU, 0, 0)\n"
          ],
          "name": "stdout"
        },
        {
          "output_type": "stream",
          "text": [
            "INFO:tensorflow:*** Available Device: _DeviceAttributes(/job:worker/replica:0/task:0/device:TPU:6, TPU, 0, 0)\n"
          ],
          "name": "stderr"
        },
        {
          "output_type": "stream",
          "text": [
            "INFO:tensorflow:*** Available Device: _DeviceAttributes(/job:worker/replica:0/task:0/device:TPU:7, TPU, 0, 0)\n"
          ],
          "name": "stdout"
        },
        {
          "output_type": "stream",
          "text": [
            "INFO:tensorflow:*** Available Device: _DeviceAttributes(/job:worker/replica:0/task:0/device:TPU:7, TPU, 0, 0)\n"
          ],
          "name": "stderr"
        },
        {
          "output_type": "stream",
          "text": [
            "INFO:tensorflow:*** Available Device: _DeviceAttributes(/job:worker/replica:0/task:0/device:TPU_SYSTEM:0, TPU_SYSTEM, 0, 0)\n"
          ],
          "name": "stdout"
        },
        {
          "output_type": "stream",
          "text": [
            "INFO:tensorflow:*** Available Device: _DeviceAttributes(/job:worker/replica:0/task:0/device:TPU_SYSTEM:0, TPU_SYSTEM, 0, 0)\n"
          ],
          "name": "stderr"
        },
        {
          "output_type": "stream",
          "text": [
            "INFO:tensorflow:*** Available Device: _DeviceAttributes(/job:worker/replica:0/task:0/device:XLA_CPU:0, XLA_CPU, 0, 0)\n"
          ],
          "name": "stdout"
        },
        {
          "output_type": "stream",
          "text": [
            "INFO:tensorflow:*** Available Device: _DeviceAttributes(/job:worker/replica:0/task:0/device:XLA_CPU:0, XLA_CPU, 0, 0)\n"
          ],
          "name": "stderr"
        },
        {
          "output_type": "stream",
          "text": [
            "Number of accelerators 8\n"
          ],
          "name": "stdout"
        }
      ]
    },
    {
      "cell_type": "markdown",
      "metadata": {
        "id": "aDtXntsRribS"
      },
      "source": [
        "## Load config"
      ]
    },
    {
      "cell_type": "code",
      "metadata": {
        "colab": {
          "base_uri": "https://localhost:8080/"
        },
        "id": "sZKEyTTYrfeW",
        "outputId": "0f159e44-497e-4e09-890f-4164b930f438"
      },
      "source": [
        "params_path = str(path/\"params.yaml\")\r\n",
        "\r\n",
        "with open(params_path, \"r\") as params_file:\r\n",
        "    params = yaml.load(params_file)\r\n",
        "dataset_config = MapDict(params[\"dataset\"])\r\n",
        "split_config = MapDict(params[\"split\"])\r\n",
        "train_config = MapDict(params[\"train\"])\r\n",
        "train_config.batch_size *= strategy.num_replicas_in_sync\r\n",
        "checkpoint_config = MapDict(params[\"checkpoint\"]) \r\n",
        "\r\n",
        "lr_config = MapDict(params[\"train\"][\"lr\"])\r\n",
        "lr_config.max *= strategy.num_replicas_in_sync\r\n",
        "\r\n",
        "print(\"dataset:\\n\\n\", dataset_config)\r\n",
        "print()\r\n",
        "print(\"split:\\n\\n\", split_config)\r\n",
        "print()\r\n",
        "print(\"train:\\n\\n\", train_config)\r\n",
        "print()\r\n",
        "print(\"lr:\\n\\n\", lr_config)\r\n",
        "print()\r\n",
        "print(\"checkpoint:\\n\\n\", checkpoint_config)"
      ],
      "execution_count": 10,
      "outputs": [
        {
          "output_type": "stream",
          "text": [
            "dataset:\n",
            "\n",
            " {'image_size': 331, 'gcs_path': 'gs://kaggle-data-tpu/images', 'gcs_path_remote_alias': 'gcs_images', 'classes': ['daisy', 'dandelion', 'roses', 'sunflowers', 'tulips'], 'classes_path': 'data/domain/classes.json'}\n",
            "\n",
            "split:\n",
            "\n",
            " {'train_split_path': 'data/interim/train_split.json', 'val_split_path': 'data/interim/val_split.json', 'images_count_path': 'data/interim/images_count.json', 'validation_split': 0.19}\n",
            "\n",
            "train:\n",
            "\n",
            " {'nb_validation_samples': 800, 'epochs': 12, 'batch_size': 128, 'lr': {'start': 1e-05, 'max': 5e-05, 'min': 1e-05, 'rampup_epochs': 5, 'sustain_epochs': 0, 'exp_decay': 0.8}, 'saved_model_path': 'models/xception_model.h5', 'train_plot_path': 'plots/train_accuracy_plot.json'}\n",
            "\n",
            "lr:\n",
            "\n",
            " {'start': 1e-05, 'max': 0.0004, 'min': 1e-05, 'rampup_epochs': 5, 'sustain_epochs': 0, 'exp_decay': 0.8}\n",
            "\n",
            "checkpoint:\n",
            "\n",
            " {'path': 'checkpoints/cp.ckpt'}\n"
          ],
          "name": "stdout"
        }
      ]
    },
    {
      "cell_type": "code",
      "metadata": {
        "cellView": "form",
        "id": "_rQJBAFerxev"
      },
      "source": [
        "#@title ##Display images utils\r\n",
        "def display_one_flower(image, title, subplot, red=False):\r\n",
        "    plt.subplot(subplot)\r\n",
        "    plt.axis('off')\r\n",
        "    plt.imshow(image)\r\n",
        "    plt.title(title, fontsize=16, color='red' if red else 'black')\r\n",
        "    return subplot+1\r\n",
        "    \r\n",
        "def dataset_to_numpy_util(dataset, N):\r\n",
        "    dataset = dataset.unbatch().batch(N)\r\n",
        "    for images, labels in dataset:\r\n",
        "        numpy_images = images.numpy()\r\n",
        "        numpy_labels = labels.numpy()\r\n",
        "        break;  \r\n",
        "    return numpy_images, numpy_labels\r\n",
        "\r\n",
        "def dataset_to_numpy_util(dataset, N):\r\n",
        "    dataset = dataset.unbatch().batch(N)\r\n",
        "    for images, labels in dataset:\r\n",
        "        numpy_images = images.numpy()\r\n",
        "        numpy_labels = labels.numpy()\r\n",
        "        break;  \r\n",
        "    return numpy_images, numpy_labels\r\n",
        "\r\n",
        "def display_9_images_from_dataset(dataset):\r\n",
        "    subplot=331\r\n",
        "    plt.figure(figsize=(13,13))\r\n",
        "    images, labels = dataset_to_numpy_util(dataset, 9)\r\n",
        "    for i, image in enumerate(images):\r\n",
        "        title = dataset_config.classes[np.argmax(labels[i], axis=-1)]\r\n",
        "        subplot = display_one_flower(image, title, subplot)\r\n",
        "        if i >= 8:\r\n",
        "            break\r\n",
        "              \r\n",
        "    #plt.tight_layout()\r\n",
        "    plt.subplots_adjust(wspace=0.1, hspace=0.1)\r\n",
        "    plt.show()\r\n",
        "\r\n",
        "def display_training_curves(training, validation, title, subplot):\r\n",
        "    if subplot%10==1: # set up the subplots on the first call\r\n",
        "        plt.subplots(figsize=(10,10), facecolor='#F0F0F0')\r\n",
        "        #plt.tight_layout()\r\n",
        "    ax = plt.subplot(subplot)\r\n",
        "    ax.set_facecolor('#F8F8F8')\r\n",
        "    ax.plot(training)\r\n",
        "    ax.plot(validation)\r\n",
        "    ax.set_title('model '+ title)\r\n",
        "    ax.set_ylabel(title)\r\n",
        "    #ax.set_ylim(0.28,1.05)\r\n",
        "    ax.set_xlabel('epoch')\r\n",
        "    ax.legend(['train', 'valid.'])\r\n",
        "\r\n",
        "def title_from_label_and_target(label, correct_label):\r\n",
        "    label = np.argmax(label, axis=-1)  # one-hot to class number\r\n",
        "    correct_label = np.argmax(correct_label, axis=-1) # one-hot to class number\r\n",
        "    correct = (label == correct_label)\r\n",
        "    return \"{} [{}{}{}]\".format(dataset_config.classes[label], str(correct), ', shoud be ' if not correct else '',\r\n",
        "                                dataset_config.classes[correct_label] if not correct else ''), correct\r\n",
        "\r\n",
        "def display_9_images_with_predictions(images, predictions, labels):\r\n",
        "    subplot=331\r\n",
        "    plt.figure(figsize=(13,13))\r\n",
        "    for i, image in enumerate(images):\r\n",
        "        title, correct = title_from_label_and_target(predictions[i], labels[i])\r\n",
        "        subplot = display_one_flower(image, title, subplot, not correct)\r\n",
        "        if i >= 8:\r\n",
        "            break;\r\n",
        "              \r\n",
        "    #plt.tight_layout()\r\n",
        "    plt.subplots_adjust(wspace=0.1, hspace=0.1)\r\n",
        "    plt.show()"
      ],
      "execution_count": null,
      "outputs": []
    },
    {
      "cell_type": "code",
      "metadata": {
        "colab": {
          "base_uri": "https://localhost:8080/"
        },
        "id": "-mkVDFVFrfbl",
        "outputId": "8f70996d-691f-4058-c4e9-be1712627dc5"
      },
      "source": [
        "train_split_path = str(path / split_config.train_split_path)\r\n",
        "val_split_path = str(path / split_config.val_split_path)\r\n",
        "\r\n",
        "with open(train_split_path, \"r\") as train_split_file, open(val_split_path, \"r\") as val_split_file:\r\n",
        "    train_split_files = json.load(train_split_file)\r\n",
        "    val_split_files = json.load(val_split_file)\r\n",
        "\r\n",
        "train_split_files, val_split_files"
      ],
      "execution_count": 11,
      "outputs": [
        {
          "output_type": "execute_result",
          "data": {
            "text/plain": [
              "(['gs://kaggle-data-tpu/images/tfrecords-jpeg-331x331/flowers00-230.tfrec',\n",
              "  'gs://kaggle-data-tpu/images/tfrecords-jpeg-331x331/flowers01-230.tfrec',\n",
              "  'gs://kaggle-data-tpu/images/tfrecords-jpeg-331x331/flowers02-230.tfrec',\n",
              "  'gs://kaggle-data-tpu/images/tfrecords-jpeg-331x331/flowers03-230.tfrec',\n",
              "  'gs://kaggle-data-tpu/images/tfrecords-jpeg-331x331/flowers04-230.tfrec',\n",
              "  'gs://kaggle-data-tpu/images/tfrecords-jpeg-331x331/flowers05-230.tfrec',\n",
              "  'gs://kaggle-data-tpu/images/tfrecords-jpeg-331x331/flowers06-230.tfrec',\n",
              "  'gs://kaggle-data-tpu/images/tfrecords-jpeg-331x331/flowers07-230.tfrec',\n",
              "  'gs://kaggle-data-tpu/images/tfrecords-jpeg-331x331/flowers08-230.tfrec',\n",
              "  'gs://kaggle-data-tpu/images/tfrecords-jpeg-331x331/flowers09-230.tfrec',\n",
              "  'gs://kaggle-data-tpu/images/tfrecords-jpeg-331x331/flowers10-230.tfrec',\n",
              "  'gs://kaggle-data-tpu/images/tfrecords-jpeg-331x331/flowers11-230.tfrec',\n",
              "  'gs://kaggle-data-tpu/images/tfrecords-jpeg-331x331/flowers12-230.tfrec'],\n",
              " ['gs://kaggle-data-tpu/images/tfrecords-jpeg-331x331/flowers13-230.tfrec',\n",
              "  'gs://kaggle-data-tpu/images/tfrecords-jpeg-331x331/flowers14-230.tfrec',\n",
              "  'gs://kaggle-data-tpu/images/tfrecords-jpeg-331x331/flowers15-220.tfrec'])"
            ]
          },
          "metadata": {
            "tags": []
          },
          "execution_count": 11
        }
      ]
    },
    {
      "cell_type": "markdown",
      "metadata": {
        "id": "uq0WoXDYspJy"
      },
      "source": [
        "## Load training set images"
      ]
    },
    {
      "cell_type": "code",
      "metadata": {
        "colab": {
          "base_uri": "https://localhost:8080/"
        },
        "id": "MXvGWdj6rfYy",
        "outputId": "db69ae8c-cdb5-4ad2-ea8a-1427cbb5c32a"
      },
      "source": [
        "training_dataset = get_training_dataset(\r\n",
        "    train_split_files, dataset_config.image_size, train_config.batch_size\r\n",
        ")\r\n",
        "\r\n",
        "validation_dataset = get_validation_dataset(\r\n",
        "    val_split_files, dataset_config.image_size, train_config.batch_size\r\n",
        ")\r\n",
        "\r\n",
        "training_dataset, validation_dataset"
      ],
      "execution_count": 12,
      "outputs": [
        {
          "output_type": "execute_result",
          "data": {
            "text/plain": [
              "(<PrefetchDataset shapes: ((None, 331, 331, 3), (None, 5)), types: (tf.uint8, tf.float32)>,\n",
              " <PrefetchDataset shapes: ((None, 331, 331, 3), (None, 5)), types: (tf.uint8, tf.float32)>)"
            ]
          },
          "metadata": {
            "tags": []
          },
          "execution_count": 12
        }
      ]
    },
    {
      "cell_type": "markdown",
      "metadata": {
        "id": "9pTJ4KNHt3sb"
      },
      "source": [
        "## Training"
      ]
    },
    {
      "cell_type": "code",
      "metadata": {
        "colab": {
          "base_uri": "https://localhost:8080/"
        },
        "id": "oHXM2AFRt2XE",
        "outputId": "fe5621ef-2115-4d54-b84b-49cdc4529a39"
      },
      "source": [
        "num_classes = len(dataset_config.classes)\r\n",
        "with strategy.scope():\r\n",
        "    model = create_xception_ft_model(dataset_config.image_size, num_classes)\r\n",
        "model.summary()"
      ],
      "execution_count": 13,
      "outputs": [
        {
          "output_type": "stream",
          "text": [
            "Downloading data from https://storage.googleapis.com/tensorflow/keras-applications/xception/xception_weights_tf_dim_ordering_tf_kernels_notop.h5\n",
            "83689472/83683744 [==============================] - 1s 0us/step\n",
            "Model: \"sequential\"\n",
            "_________________________________________________________________\n",
            "Layer (type)                 Output Shape              Param #   \n",
            "=================================================================\n",
            "lambda (Lambda)              (None, 331, 331, 3)       0         \n",
            "_________________________________________________________________\n",
            "xception (Functional)        (None, None, None, 2048)  20861480  \n",
            "_________________________________________________________________\n",
            "global_average_pooling2d (Gl (None, 2048)              0         \n",
            "_________________________________________________________________\n",
            "dense (Dense)                (None, 5)                 10245     \n",
            "=================================================================\n",
            "Total params: 20,871,725\n",
            "Trainable params: 20,817,197\n",
            "Non-trainable params: 54,528\n",
            "_________________________________________________________________\n"
          ],
          "name": "stdout"
        }
      ]
    },
    {
      "cell_type": "code",
      "metadata": {
        "id": "x57oVUe1t2Uu"
      },
      "source": [
        "training_dataset = training_dataset.map(to_float32)\r\n",
        "validation_dataset = validation_dataset.map(to_float32)"
      ],
      "execution_count": 14,
      "outputs": []
    },
    {
      "cell_type": "code",
      "metadata": {
        "colab": {
          "base_uri": "https://localhost:8080/"
        },
        "id": "DCmAo1HOt2Rn",
        "outputId": "35c72cc2-3622-4fe6-fa78-65755a2fe96e"
      },
      "source": [
        "images_split_count_path = str(path/split_config.images_count_path)\r\n",
        "\r\n",
        "with open(images_split_count_path, \"r\") as images_split_count_file:\r\n",
        "    images_split_count = json.load(images_split_count_file)\r\n",
        "\r\n",
        "num_training_images = images_split_count[\"num_training_images\"]\r\n",
        "num_validation_images = images_split_count[\"num_validation_images\"]\r\n",
        "num_training_images, num_validation_images"
      ],
      "execution_count": 15,
      "outputs": [
        {
          "output_type": "execute_result",
          "data": {
            "text/plain": [
              "(2990, 680)"
            ]
          },
          "metadata": {
            "tags": []
          },
          "execution_count": 15
        }
      ]
    },
    {
      "cell_type": "code",
      "metadata": {
        "colab": {
          "base_uri": "https://localhost:8080/"
        },
        "id": "JReIOV1mt2Ol",
        "outputId": "bb0ef3a0-92b8-4301-8c2f-ad22ceb8812d"
      },
      "source": [
        "train_steps = num_training_images // train_config.batch_size\r\n",
        "train_steps"
      ],
      "execution_count": 16,
      "outputs": [
        {
          "output_type": "execute_result",
          "data": {
            "text/plain": [
              "23"
            ]
          },
          "metadata": {
            "tags": []
          },
          "execution_count": 16
        }
      ]
    },
    {
      "cell_type": "code",
      "metadata": {
        "id": "HhqThFXjtz1n"
      },
      "source": [
        "lr_callback = LearningRateScheduler(\r\n",
        "    lambda epoch: lrfn(lr_config, epoch), verbose=True\r\n",
        ")"
      ],
      "execution_count": 17,
      "outputs": []
    },
    {
      "cell_type": "code",
      "metadata": {
        "colab": {
          "base_uri": "https://localhost:8080/",
          "height": 35
        },
        "id": "ODg0ct-LU0vj",
        "outputId": "7b140b8f-59e1-4b0c-a027-781a79febbfa"
      },
      "source": [
        "checkpoint_config.path"
      ],
      "execution_count": 18,
      "outputs": [
        {
          "output_type": "execute_result",
          "data": {
            "application/vnd.google.colaboratory.intrinsic+json": {
              "type": "string"
            },
            "text/plain": [
              "'checkpoints/cp.ckpt'"
            ]
          },
          "metadata": {
            "tags": []
          },
          "execution_count": 18
        }
      ]
    },
    {
      "cell_type": "code",
      "metadata": {
        "id": "pbBixT83YDQI"
      },
      "source": [
        "options = tf.train.CheckpointOptions(experimental_io_device=\"/job:localhost\")"
      ],
      "execution_count": 19,
      "outputs": []
    },
    {
      "cell_type": "code",
      "metadata": {
        "id": "VoAwUyEnYTA8"
      },
      "source": [
        "save_locally = tf.saved_model.SaveOptions(experimental_io_device='/job:localhost')"
      ],
      "execution_count": 20,
      "outputs": []
    },
    {
      "cell_type": "code",
      "metadata": {
        "colab": {
          "base_uri": "https://localhost:8080/",
          "height": 35
        },
        "id": "cboq4ofoRAhR",
        "outputId": "f5dc0231-4436-4b26-ad1e-53714aaacda0"
      },
      "source": [
        "checkpoint_dir = os.path.dirname(checkpoint_config.path)\r\n",
        "cp_callback = ModelCheckpoint(\r\n",
        "    filepath=checkpoint_config.path,\r\n",
        "    save_weights_only=True,\r\n",
        "    verbose=1,\r\n",
        "    options=options,\r\n",
        ")\r\n",
        "checkpoint_dir"
      ],
      "execution_count": 21,
      "outputs": [
        {
          "output_type": "execute_result",
          "data": {
            "application/vnd.google.colaboratory.intrinsic+json": {
              "type": "string"
            },
            "text/plain": [
              "'checkpoints'"
            ]
          },
          "metadata": {
            "tags": []
          },
          "execution_count": 21
        }
      ]
    },
    {
      "cell_type": "code",
      "metadata": {
        "colab": {
          "base_uri": "https://localhost:8080/"
        },
        "id": "ImoWeRJOtzy0",
        "outputId": "cbf98f4a-c995-4d49-fe36-48822af1970d"
      },
      "source": [
        "history = model.fit(\r\n",
        "    training_dataset,\r\n",
        "    validation_data=validation_dataset,\r\n",
        "    steps_per_epoch=train_steps,\r\n",
        "    epochs=train_config.epochs,\r\n",
        "    callbacks=[lr_callback, cp_callback]\r\n",
        ")"
      ],
      "execution_count": 22,
      "outputs": [
        {
          "output_type": "stream",
          "text": [
            "Epoch 1/12\n",
            "\n",
            "Epoch 00001: LearningRateScheduler reducing learning rate to 1e-05.\n",
            "23/23 [==============================] - 61s 776ms/step - loss: 1.5293 - accuracy: 0.3446 - val_loss: 1.3961 - val_accuracy: 0.5515\n",
            "\n",
            "Epoch 00001: saving model to checkpoints/cp.ckpt\n",
            "Epoch 2/12\n",
            "\n",
            "Epoch 00002: LearningRateScheduler reducing learning rate to 8.8e-05.\n",
            "23/23 [==============================] - 6s 278ms/step - loss: 0.9850 - accuracy: 0.7594 - val_loss: 0.3369 - val_accuracy: 0.9088\n",
            "\n",
            "Epoch 00002: saving model to checkpoints/cp.ckpt\n",
            "Epoch 3/12\n",
            "\n",
            "Epoch 00003: LearningRateScheduler reducing learning rate to 0.000166.\n",
            "23/23 [==============================] - 6s 280ms/step - loss: 0.2971 - accuracy: 0.9111 - val_loss: 0.2245 - val_accuracy: 0.9206\n",
            "\n",
            "Epoch 00003: saving model to checkpoints/cp.ckpt\n",
            "Epoch 4/12\n",
            "\n",
            "Epoch 00004: LearningRateScheduler reducing learning rate to 0.000244.\n",
            "23/23 [==============================] - 7s 289ms/step - loss: 0.1459 - accuracy: 0.9546 - val_loss: 0.1445 - val_accuracy: 0.9485\n",
            "\n",
            "Epoch 00004: saving model to checkpoints/cp.ckpt\n",
            "Epoch 5/12\n",
            "\n",
            "Epoch 00005: LearningRateScheduler reducing learning rate to 0.000322.\n",
            "23/23 [==============================] - 7s 302ms/step - loss: 0.0819 - accuracy: 0.9745 - val_loss: 0.1501 - val_accuracy: 0.9456\n",
            "\n",
            "Epoch 00005: saving model to checkpoints/cp.ckpt\n",
            "Epoch 6/12\n",
            "\n",
            "Epoch 00006: LearningRateScheduler reducing learning rate to 0.0004.\n",
            "23/23 [==============================] - 6s 279ms/step - loss: 0.0511 - accuracy: 0.9875 - val_loss: 0.2500 - val_accuracy: 0.9206\n",
            "\n",
            "Epoch 00006: saving model to checkpoints/cp.ckpt\n",
            "Epoch 7/12\n",
            "\n",
            "Epoch 00007: LearningRateScheduler reducing learning rate to 0.000322.\n",
            "23/23 [==============================] - 6s 285ms/step - loss: 0.0376 - accuracy: 0.9894 - val_loss: 0.1576 - val_accuracy: 0.9471\n",
            "\n",
            "Epoch 00007: saving model to checkpoints/cp.ckpt\n",
            "Epoch 8/12\n",
            "\n",
            "Epoch 00008: LearningRateScheduler reducing learning rate to 0.0002596000000000001.\n",
            "23/23 [==============================] - 6s 271ms/step - loss: 0.0390 - accuracy: 0.9858 - val_loss: 0.1676 - val_accuracy: 0.9500\n",
            "\n",
            "Epoch 00008: saving model to checkpoints/cp.ckpt\n",
            "Epoch 9/12\n",
            "\n",
            "Epoch 00009: LearningRateScheduler reducing learning rate to 0.00020968000000000004.\n",
            "23/23 [==============================] - 6s 282ms/step - loss: 0.0210 - accuracy: 0.9954 - val_loss: 0.1361 - val_accuracy: 0.9588\n",
            "\n",
            "Epoch 00009: saving model to checkpoints/cp.ckpt\n",
            "Epoch 10/12\n",
            "\n",
            "Epoch 00010: LearningRateScheduler reducing learning rate to 0.00016974400000000002.\n",
            "23/23 [==============================] - 6s 279ms/step - loss: 0.0148 - accuracy: 0.9969 - val_loss: 0.1349 - val_accuracy: 0.9588\n",
            "\n",
            "Epoch 00010: saving model to checkpoints/cp.ckpt\n",
            "Epoch 11/12\n",
            "\n",
            "Epoch 00011: LearningRateScheduler reducing learning rate to 0.00013779520000000003.\n",
            "23/23 [==============================] - 6s 280ms/step - loss: 0.0156 - accuracy: 0.9975 - val_loss: 0.1097 - val_accuracy: 0.9662\n",
            "\n",
            "Epoch 00011: saving model to checkpoints/cp.ckpt\n",
            "Epoch 12/12\n",
            "\n",
            "Epoch 00012: LearningRateScheduler reducing learning rate to 0.00011223616000000004.\n",
            "23/23 [==============================] - 6s 279ms/step - loss: 0.0099 - accuracy: 0.9988 - val_loss: 0.1105 - val_accuracy: 0.9706\n",
            "\n",
            "Epoch 00012: saving model to checkpoints/cp.ckpt\n"
          ],
          "name": "stdout"
        }
      ]
    },
    {
      "cell_type": "code",
      "metadata": {
        "colab": {
          "base_uri": "https://localhost:8080/"
        },
        "id": "e1ZO6bbKoS5Y",
        "outputId": "8fb1536f-95ad-4365-82b2-da9b026efe29"
      },
      "source": [
        "!ls {checkpoint_dir}"
      ],
      "execution_count": 23,
      "outputs": [
        {
          "output_type": "stream",
          "text": [
            "checkpoint  cp.ckpt.data-00000-of-00001  cp.ckpt.index\n"
          ],
          "name": "stdout"
        }
      ]
    },
    {
      "cell_type": "code",
      "metadata": {
        "colab": {
          "base_uri": "https://localhost:8080/"
        },
        "id": "LFwIqrVooR8Z",
        "outputId": "5d4e1cfa-a604-4115-c907-b2329cb93acc"
      },
      "source": [
        "with strategy.scope():\r\n",
        "    cp_model = create_xception_ft_model(dataset_config.image_size, num_classes)\r\n",
        "\r\n",
        "loss, acc = cp_model.evaluate(validation_dataset, verbose=2)\r\n",
        "print(f\"Untrained model, accuracy {acc * 100:5.2f}\")"
      ],
      "execution_count": 27,
      "outputs": [
        {
          "output_type": "stream",
          "text": [
            "6/6 - 14s - loss: 1.6508 - accuracy: 0.1309\n",
            "Restored model, accuracy 13.09\n"
          ],
          "name": "stdout"
        }
      ]
    },
    {
      "cell_type": "code",
      "metadata": {
        "colab": {
          "base_uri": "https://localhost:8080/"
        },
        "id": "O-AixBLAoRws",
        "outputId": "36203538-3af1-4238-bb1d-3371f1c482cf"
      },
      "source": [
        "with strategy.scope():\r\n",
        "    cp_model.load_weights(checkpoint_config.path, options=options)\r\n",
        "\r\n",
        "loss, acc = cp_model.evaluate(validation_dataset, verbose=2)\r\n",
        "print(f\"Restored model, accuracy {acc * 100:5.2f}\")"
      ],
      "execution_count": 30,
      "outputs": [
        {
          "output_type": "stream",
          "text": [
            "6/6 - 2s - loss: 0.1106 - accuracy: 0.9691\n",
            "Restored model, accuracy 96.91\n"
          ],
          "name": "stdout"
        }
      ]
    },
    {
      "cell_type": "markdown",
      "metadata": {
        "id": "m9muwPKVsI96"
      },
      "source": [
        "## Customized checkpoints"
      ]
    },
    {
      "cell_type": "code",
      "metadata": {
        "colab": {
          "base_uri": "https://localhost:8080/"
        },
        "id": "Arln5t4xsW-P",
        "outputId": "1a538595-9267-48ca-b670-4e9a1eea7e8d"
      },
      "source": [
        "checkpoint_path = \"checkpoints/cp-{epoch:04d}.ckpt\"\r\n",
        "print(\"batch size:\", train_config.batch_size)\r\n",
        "cp_callback = ModelCheckpoint(\r\n",
        "    filepath=checkpoint_path,\r\n",
        "    save_weights_only=True,\r\n",
        "    verbose=1,\r\n",
        "    options=options,\r\n",
        "    save_freq=3\r\n",
        ")\r\n",
        "with strategy.scope():\r\n",
        "    custom_cp_model = create_xception_ft_model(\r\n",
        "        dataset_config.image_size, num_classes\r\n",
        "    )\r\n",
        "    \r\n",
        "    custom_cp_model.save_weights(\r\n",
        "        checkpoint_path.format(epoch=0), options=options\r\n",
        "    )\r\n",
        "\r\n",
        "custom_cp_model.fit(\r\n",
        "    training_dataset,\r\n",
        "    validation_data=validation_dataset,\r\n",
        "    steps_per_epoch=train_steps,\r\n",
        "    epochs=train_config.epochs,\r\n",
        "    callbacks=[lr_callback, cp_callback]\r\n",
        ")\r\n"
      ],
      "execution_count": 36,
      "outputs": [
        {
          "output_type": "stream",
          "text": [
            "batch size: 128\n",
            "Epoch 1/12\n",
            "\n",
            "Epoch 00001: LearningRateScheduler reducing learning rate to 1e-05.\n",
            " 3/23 [==>...........................] - ETA: 4s - loss: 1.6222 - accuracy: 0.1957\n",
            "Epoch 00001: saving model to checkpoints/cp-0001.ckpt\n",
            " 6/23 [======>.......................] - ETA: 19s - loss: 1.6134 - accuracy: 0.2109\n",
            "Epoch 00001: saving model to checkpoints/cp-0001.ckpt\n",
            " 9/23 [==========>...................] - ETA: 18s - loss: 1.6080 - accuracy: 0.2226\n",
            "Epoch 00001: saving model to checkpoints/cp-0001.ckpt\n",
            "12/23 [==============>...............] - ETA: 15s - loss: 1.6015 - accuracy: 0.2341\n",
            "Epoch 00001: saving model to checkpoints/cp-0001.ckpt\n",
            "15/23 [==================>...........] - ETA: 11s - loss: 1.5940 - accuracy: 0.2479\n",
            "Epoch 00001: saving model to checkpoints/cp-0001.ckpt\n",
            "18/23 [======================>.......] - ETA: 7s - loss: 1.5862 - accuracy: 0.2616\n",
            "Epoch 00001: saving model to checkpoints/cp-0001.ckpt\n",
            "21/23 [==========================>...] - ETA: 3s - loss: 1.5785 - accuracy: 0.2755\n",
            "Epoch 00001: saving model to checkpoints/cp-0001.ckpt\n",
            "23/23 [==============================] - 89s 2s/step - loss: 1.5710 - accuracy: 0.2889 - val_loss: 1.4707 - val_accuracy: 0.4279\n",
            "Epoch 2/12\n",
            "\n",
            "Epoch 00002: LearningRateScheduler reducing learning rate to 8.8e-05.\n",
            " 1/23 [>.............................] - ETA: 4s - loss: 1.4229 - accuracy: 0.4688\n",
            "Epoch 00002: saving model to checkpoints/cp-0002.ckpt\n",
            " 4/23 [====>.........................] - ETA: 27s - loss: 1.3592 - accuracy: 0.5583\n",
            "Epoch 00002: saving model to checkpoints/cp-0002.ckpt\n",
            " 7/23 [========>.....................] - ETA: 23s - loss: 1.2965 - accuracy: 0.6117\n",
            "Epoch 00002: saving model to checkpoints/cp-0002.ckpt\n",
            "10/23 [============>.................] - ETA: 19s - loss: 1.2390 - accuracy: 0.6481\n",
            "Epoch 00002: saving model to checkpoints/cp-0002.ckpt\n",
            "13/23 [===============>..............] - ETA: 14s - loss: 1.1857 - accuracy: 0.6756\n",
            "Epoch 00002: saving model to checkpoints/cp-0002.ckpt\n",
            "16/23 [===================>..........] - ETA: 10s - loss: 1.1375 - accuracy: 0.6971\n",
            "Epoch 00002: saving model to checkpoints/cp-0002.ckpt\n",
            "19/23 [=======================>......] - ETA: 5s - loss: 1.0932 - accuracy: 0.7148\n",
            "Epoch 00002: saving model to checkpoints/cp-0002.ckpt\n",
            "22/23 [===========================>..] - ETA: 1s - loss: 1.0525 - accuracy: 0.7295\n",
            "Epoch 00002: saving model to checkpoints/cp-0002.ckpt\n",
            "23/23 [==============================] - 37s 2s/step - loss: 1.0283 - accuracy: 0.7378 - val_loss: 0.4094 - val_accuracy: 0.8735\n",
            "Epoch 3/12\n",
            "\n",
            "Epoch 00003: LearningRateScheduler reducing learning rate to 0.000166.\n",
            " 2/23 [=>............................] - ETA: 4s - loss: 0.3002 - accuracy: 0.9629\n",
            "Epoch 00003: saving model to checkpoints/cp-0003.ckpt\n",
            " 5/23 [=====>........................] - ETA: 20s - loss: 0.3220 - accuracy: 0.9366\n",
            "Epoch 00003: saving model to checkpoints/cp-0003.ckpt\n",
            " 8/23 [=========>....................] - ETA: 19s - loss: 0.3233 - accuracy: 0.9290\n",
            "Epoch 00003: saving model to checkpoints/cp-0003.ckpt\n",
            "11/23 [=============>................] - ETA: 16s - loss: 0.3188 - accuracy: 0.9259\n",
            "Epoch 00003: saving model to checkpoints/cp-0003.ckpt\n",
            "14/23 [=================>............] - ETA: 12s - loss: 0.3122 - accuracy: 0.9248\n",
            "Epoch 00003: saving model to checkpoints/cp-0003.ckpt\n",
            "17/23 [=====================>........] - ETA: 8s - loss: 0.3049 - accuracy: 0.9246 \n",
            "Epoch 00003: saving model to checkpoints/cp-0003.ckpt\n",
            "20/23 [=========================>....] - ETA: 4s - loss: 0.2983 - accuracy: 0.9247\n",
            "Epoch 00003: saving model to checkpoints/cp-0003.ckpt\n",
            "23/23 [==============================] - ETA: 0s - loss: 0.2920 - accuracy: 0.9251\n",
            "Epoch 00003: saving model to checkpoints/cp-0003.ckpt\n",
            "23/23 [==============================] - 36s 2s/step - loss: 0.2902 - accuracy: 0.9253 - val_loss: 0.1854 - val_accuracy: 0.9456\n",
            "Epoch 4/12\n",
            "\n",
            "Epoch 00004: LearningRateScheduler reducing learning rate to 0.000244.\n",
            " 3/23 [==>...........................] - ETA: 4s - loss: 0.2533 - accuracy: 0.9128\n",
            "Epoch 00004: saving model to checkpoints/cp-0004.ckpt\n",
            " 6/23 [======>.......................] - ETA: 16s - loss: 0.2211 - accuracy: 0.9247\n",
            "Epoch 00004: saving model to checkpoints/cp-0004.ckpt\n",
            " 9/23 [==========>...................] - ETA: 16s - loss: 0.2015 - accuracy: 0.9324\n",
            "Epoch 00004: saving model to checkpoints/cp-0004.ckpt\n",
            "12/23 [==============>...............] - ETA: 13s - loss: 0.1882 - accuracy: 0.9378\n",
            "Epoch 00004: saving model to checkpoints/cp-0004.ckpt\n",
            "15/23 [==================>...........] - ETA: 10s - loss: 0.1793 - accuracy: 0.9413\n",
            "Epoch 00004: saving model to checkpoints/cp-0004.ckpt\n",
            "18/23 [======================>.......] - ETA: 6s - loss: 0.1723 - accuracy: 0.9440\n",
            "Epoch 00004: saving model to checkpoints/cp-0004.ckpt\n",
            "21/23 [==========================>...] - ETA: 2s - loss: 0.1664 - accuracy: 0.9461\n",
            "Epoch 00004: saving model to checkpoints/cp-0004.ckpt\n",
            "23/23 [==============================] - 32s 1s/step - loss: 0.1613 - accuracy: 0.9479 - val_loss: 0.1491 - val_accuracy: 0.9426\n",
            "Epoch 5/12\n",
            "\n",
            "Epoch 00005: LearningRateScheduler reducing learning rate to 0.000322.\n",
            " 1/23 [>.............................] - ETA: 4s - loss: 0.0837 - accuracy: 0.9688\n",
            "Epoch 00005: saving model to checkpoints/cp-0005.ckpt\n",
            " 4/23 [====>.........................] - ETA: 26s - loss: 0.0884 - accuracy: 0.9683\n",
            "Epoch 00005: saving model to checkpoints/cp-0005.ckpt\n",
            " 7/23 [========>.....................] - ETA: 24s - loss: 0.0881 - accuracy: 0.9683\n",
            "Epoch 00005: saving model to checkpoints/cp-0005.ckpt\n",
            "10/23 [============>.................] - ETA: 19s - loss: 0.0859 - accuracy: 0.9697\n",
            "Epoch 00005: saving model to checkpoints/cp-0005.ckpt\n",
            "13/23 [===============>..............] - ETA: 14s - loss: 0.0835 - accuracy: 0.9712\n",
            "Epoch 00005: saving model to checkpoints/cp-0005.ckpt\n",
            "16/23 [===================>..........] - ETA: 10s - loss: 0.0817 - accuracy: 0.9723\n",
            "Epoch 00005: saving model to checkpoints/cp-0005.ckpt\n",
            "19/23 [=======================>......] - ETA: 5s - loss: 0.0806 - accuracy: 0.9730\n",
            "Epoch 00005: saving model to checkpoints/cp-0005.ckpt\n",
            "22/23 [===========================>..] - ETA: 1s - loss: 0.0795 - accuracy: 0.9737\n",
            "Epoch 00005: saving model to checkpoints/cp-0005.ckpt\n",
            "23/23 [==============================] - 37s 2s/step - loss: 0.0789 - accuracy: 0.9741 - val_loss: 0.1485 - val_accuracy: 0.9471\n",
            "Epoch 6/12\n",
            "\n",
            "Epoch 00006: LearningRateScheduler reducing learning rate to 0.0004.\n",
            " 2/23 [=>............................] - ETA: 4s - loss: 0.0409 - accuracy: 0.9883\n",
            "Epoch 00006: saving model to checkpoints/cp-0006.ckpt\n",
            " 5/23 [=====>........................] - ETA: 20s - loss: 0.0524 - accuracy: 0.9831\n",
            "Epoch 00006: saving model to checkpoints/cp-0006.ckpt\n",
            " 8/23 [=========>....................] - ETA: 19s - loss: 0.0541 - accuracy: 0.9831\n",
            "Epoch 00006: saving model to checkpoints/cp-0006.ckpt\n",
            "11/23 [=============>................] - ETA: 16s - loss: 0.0553 - accuracy: 0.9834\n",
            "Epoch 00006: saving model to checkpoints/cp-0006.ckpt\n",
            "14/23 [=================>............] - ETA: 12s - loss: 0.0569 - accuracy: 0.9833\n",
            "Epoch 00006: saving model to checkpoints/cp-0006.ckpt\n",
            "17/23 [=====================>........] - ETA: 8s - loss: 0.0569 - accuracy: 0.9837 \n",
            "Epoch 00006: saving model to checkpoints/cp-0006.ckpt\n",
            "20/23 [=========================>....] - ETA: 4s - loss: 0.0567 - accuracy: 0.9840\n",
            "Epoch 00006: saving model to checkpoints/cp-0006.ckpt\n",
            "23/23 [==============================] - ETA: 0s - loss: 0.0561 - accuracy: 0.9844\n",
            "Epoch 00006: saving model to checkpoints/cp-0006.ckpt\n",
            "23/23 [==============================] - 37s 2s/step - loss: 0.0558 - accuracy: 0.9845 - val_loss: 0.1565 - val_accuracy: 0.9515\n",
            "Epoch 7/12\n",
            "\n",
            "Epoch 00007: LearningRateScheduler reducing learning rate to 0.000322.\n",
            " 3/23 [==>...........................] - ETA: 4s - loss: 0.0290 - accuracy: 0.9948\n",
            "Epoch 00007: saving model to checkpoints/cp-0007.ckpt\n",
            " 6/23 [======>.......................] - ETA: 15s - loss: 0.0332 - accuracy: 0.9935\n",
            "Epoch 00007: saving model to checkpoints/cp-0007.ckpt\n",
            " 9/23 [==========>...................] - ETA: 16s - loss: 0.0346 - accuracy: 0.9920\n",
            "Epoch 00007: saving model to checkpoints/cp-0007.ckpt\n",
            "12/23 [==============>...............] - ETA: 13s - loss: 0.0355 - accuracy: 0.9910\n",
            "Epoch 00007: saving model to checkpoints/cp-0007.ckpt\n",
            "15/23 [==================>...........] - ETA: 10s - loss: 0.0355 - accuracy: 0.9906\n",
            "Epoch 00007: saving model to checkpoints/cp-0007.ckpt\n",
            "18/23 [======================>.......] - ETA: 6s - loss: 0.0363 - accuracy: 0.9902\n",
            "Epoch 00007: saving model to checkpoints/cp-0007.ckpt\n",
            "21/23 [==========================>...] - ETA: 2s - loss: 0.0365 - accuracy: 0.9900\n",
            "Epoch 00007: saving model to checkpoints/cp-0007.ckpt\n",
            "23/23 [==============================] - 32s 1s/step - loss: 0.0365 - accuracy: 0.9899 - val_loss: 0.1678 - val_accuracy: 0.9515\n",
            "Epoch 8/12\n",
            "\n",
            "Epoch 00008: LearningRateScheduler reducing learning rate to 0.0002596000000000001.\n",
            " 1/23 [>.............................] - ETA: 4s - loss: 0.0163 - accuracy: 1.0000\n",
            "Epoch 00008: saving model to checkpoints/cp-0008.ckpt\n",
            " 4/23 [====>.........................] - ETA: 27s - loss: 0.0208 - accuracy: 0.9979\n",
            "Epoch 00008: saving model to checkpoints/cp-0008.ckpt\n",
            " 7/23 [========>.....................] - ETA: 23s - loss: 0.0201 - accuracy: 0.9979\n",
            "Epoch 00008: saving model to checkpoints/cp-0008.ckpt\n",
            "10/23 [============>.................] - ETA: 19s - loss: 0.0197 - accuracy: 0.9976\n",
            "Epoch 00008: saving model to checkpoints/cp-0008.ckpt\n",
            "13/23 [===============>..............] - ETA: 14s - loss: 0.0194 - accuracy: 0.9971\n",
            "Epoch 00008: saving model to checkpoints/cp-0008.ckpt\n",
            "16/23 [===================>..........] - ETA: 10s - loss: 0.0196 - accuracy: 0.9967\n",
            "Epoch 00008: saving model to checkpoints/cp-0008.ckpt\n",
            "19/23 [=======================>......] - ETA: 5s - loss: 0.0207 - accuracy: 0.9961\n",
            "Epoch 00008: saving model to checkpoints/cp-0008.ckpt\n",
            "22/23 [===========================>..] - ETA: 1s - loss: 0.0218 - accuracy: 0.9955\n",
            "Epoch 00008: saving model to checkpoints/cp-0008.ckpt\n",
            "23/23 [==============================] - 36s 2s/step - loss: 0.0223 - accuracy: 0.9952 - val_loss: 0.1510 - val_accuracy: 0.9603\n",
            "Epoch 9/12\n",
            "\n",
            "Epoch 00009: LearningRateScheduler reducing learning rate to 0.00020968000000000004.\n",
            " 2/23 [=>............................] - ETA: 4s - loss: 0.0111 - accuracy: 1.0000\n",
            "Epoch 00009: saving model to checkpoints/cp-0009.ckpt\n",
            " 5/23 [=====>........................] - ETA: 23s - loss: 0.0159 - accuracy: 0.9965\n",
            "Epoch 00009: saving model to checkpoints/cp-0009.ckpt\n",
            " 8/23 [=========>....................] - ETA: 28s - loss: 0.0173 - accuracy: 0.9953\n",
            "Epoch 00009: saving model to checkpoints/cp-0009.ckpt\n",
            "11/23 [=============>................] - ETA: 21s - loss: 0.0197 - accuracy: 0.9947\n",
            "Epoch 00009: saving model to checkpoints/cp-0009.ckpt\n",
            "14/23 [=================>............] - ETA: 15s - loss: 0.0203 - accuracy: 0.9947\n",
            "Epoch 00009: saving model to checkpoints/cp-0009.ckpt\n",
            "17/23 [=====================>........] - ETA: 10s - loss: 0.0206 - accuracy: 0.9947\n",
            "Epoch 00009: saving model to checkpoints/cp-0009.ckpt\n",
            "20/23 [=========================>....] - ETA: 5s - loss: 0.0209 - accuracy: 0.9946\n",
            "Epoch 00009: saving model to checkpoints/cp-0009.ckpt\n",
            "23/23 [==============================] - ETA: 0s - loss: 0.0212 - accuracy: 0.9945\n",
            "Epoch 00009: saving model to checkpoints/cp-0009.ckpt\n",
            "23/23 [==============================] - 42s 2s/step - loss: 0.0213 - accuracy: 0.9944 - val_loss: 0.1578 - val_accuracy: 0.9632\n",
            "Epoch 10/12\n",
            "\n",
            "Epoch 00010: LearningRateScheduler reducing learning rate to 0.00016974400000000002.\n",
            " 3/23 [==>...........................] - ETA: 4s - loss: 0.0185 - accuracy: 0.9952\n",
            "Epoch 00010: saving model to checkpoints/cp-0010.ckpt\n",
            " 6/23 [======>.......................] - ETA: 17s - loss: 0.0184 - accuracy: 0.9956\n",
            "Epoch 00010: saving model to checkpoints/cp-0010.ckpt\n",
            " 9/23 [==========>...................] - ETA: 18s - loss: 0.0187 - accuracy: 0.9954\n",
            "Epoch 00010: saving model to checkpoints/cp-0010.ckpt\n",
            "12/23 [==============>...............] - ETA: 14s - loss: 0.0186 - accuracy: 0.9955\n",
            "Epoch 00010: saving model to checkpoints/cp-0010.ckpt\n",
            "15/23 [==================>...........] - ETA: 11s - loss: 0.0183 - accuracy: 0.9957\n",
            "Epoch 00010: saving model to checkpoints/cp-0010.ckpt\n",
            "18/23 [======================>.......] - ETA: 7s - loss: 0.0181 - accuracy: 0.9958\n",
            "Epoch 00010: saving model to checkpoints/cp-0010.ckpt\n",
            "21/23 [==========================>...] - ETA: 2s - loss: 0.0178 - accuracy: 0.9960\n",
            "Epoch 00010: saving model to checkpoints/cp-0010.ckpt\n",
            "23/23 [==============================] - 35s 2s/step - loss: 0.0178 - accuracy: 0.9961 - val_loss: 0.1726 - val_accuracy: 0.9529\n",
            "Epoch 11/12\n",
            "\n",
            "Epoch 00011: LearningRateScheduler reducing learning rate to 0.00013779520000000003.\n",
            " 1/23 [>.............................] - ETA: 4s - loss: 0.0034 - accuracy: 1.0000\n",
            "Epoch 00011: saving model to checkpoints/cp-0011.ckpt\n",
            " 4/23 [====>.........................] - ETA: 27s - loss: 0.0147 - accuracy: 0.9979\n",
            "Epoch 00011: saving model to checkpoints/cp-0011.ckpt\n",
            " 7/23 [========>.....................] - ETA: 23s - loss: 0.0141 - accuracy: 0.9973\n",
            "Epoch 00011: saving model to checkpoints/cp-0011.ckpt\n",
            "10/23 [============>.................] - ETA: 19s - loss: 0.0134 - accuracy: 0.9973\n",
            "Epoch 00011: saving model to checkpoints/cp-0011.ckpt\n",
            "13/23 [===============>..............] - ETA: 15s - loss: 0.0128 - accuracy: 0.9975\n",
            "Epoch 00011: saving model to checkpoints/cp-0011.ckpt\n",
            "16/23 [===================>..........] - ETA: 10s - loss: 0.0125 - accuracy: 0.9976\n",
            "Epoch 00011: saving model to checkpoints/cp-0011.ckpt\n",
            "19/23 [=======================>......] - ETA: 5s - loss: 0.0121 - accuracy: 0.9977\n",
            "Epoch 00011: saving model to checkpoints/cp-0011.ckpt\n",
            "22/23 [===========================>..] - ETA: 1s - loss: 0.0117 - accuracy: 0.9978\n",
            "Epoch 00011: saving model to checkpoints/cp-0011.ckpt\n",
            "23/23 [==============================] - 37s 2s/step - loss: 0.0115 - accuracy: 0.9979 - val_loss: 0.1424 - val_accuracy: 0.9574\n",
            "Epoch 12/12\n",
            "\n",
            "Epoch 00012: LearningRateScheduler reducing learning rate to 0.00011223616000000004.\n",
            " 2/23 [=>............................] - ETA: 4s - loss: 0.0055 - accuracy: 1.0000\n",
            "Epoch 00012: saving model to checkpoints/cp-0012.ckpt\n",
            " 5/23 [=====>........................] - ETA: 20s - loss: 0.0089 - accuracy: 0.9985\n",
            "Epoch 00012: saving model to checkpoints/cp-0012.ckpt\n",
            " 8/23 [=========>....................] - ETA: 19s - loss: 0.0103 - accuracy: 0.9979\n",
            "Epoch 00012: saving model to checkpoints/cp-0012.ckpt\n",
            "11/23 [=============>................] - ETA: 16s - loss: 0.0108 - accuracy: 0.9974\n",
            "Epoch 00012: saving model to checkpoints/cp-0012.ckpt\n",
            "14/23 [=================>............] - ETA: 12s - loss: 0.0108 - accuracy: 0.9973\n",
            "Epoch 00012: saving model to checkpoints/cp-0012.ckpt\n",
            "17/23 [=====================>........] - ETA: 8s - loss: 0.0108 - accuracy: 0.9972 \n",
            "Epoch 00012: saving model to checkpoints/cp-0012.ckpt\n",
            "20/23 [=========================>....] - ETA: 4s - loss: 0.0106 - accuracy: 0.9973\n",
            "Epoch 00012: saving model to checkpoints/cp-0012.ckpt\n",
            "23/23 [==============================] - ETA: 0s - loss: 0.0105 - accuracy: 0.9973\n",
            "Epoch 00012: saving model to checkpoints/cp-0012.ckpt\n",
            "23/23 [==============================] - 38s 2s/step - loss: 0.0104 - accuracy: 0.9973 - val_loss: 0.1280 - val_accuracy: 0.9588\n"
          ],
          "name": "stdout"
        },
        {
          "output_type": "execute_result",
          "data": {
            "text/plain": [
              "<tensorflow.python.keras.callbacks.History at 0x7ff6c8456f50>"
            ]
          },
          "metadata": {
            "tags": []
          },
          "execution_count": 36
        }
      ]
    },
    {
      "cell_type": "code",
      "metadata": {
        "colab": {
          "base_uri": "https://localhost:8080/"
        },
        "id": "S0jM1MrFtIes",
        "outputId": "2384e676-83f2-47fa-85c7-8aa1cfd88f44"
      },
      "source": [
        "!ls {checkpoint_dir}"
      ],
      "execution_count": 37,
      "outputs": [
        {
          "output_type": "stream",
          "text": [
            "checkpoint\t\t\t  cp-0007.ckpt.data-00000-of-00001\n",
            "cp-0000.ckpt.data-00000-of-00001  cp-0007.ckpt.index\n",
            "cp-0000.ckpt.index\t\t  cp-0008.ckpt.data-00000-of-00001\n",
            "cp-0001.ckpt.data-00000-of-00001  cp-0008.ckpt.index\n",
            "cp-0001.ckpt.index\t\t  cp-0009.ckpt.data-00000-of-00001\n",
            "cp-0002.ckpt.data-00000-of-00001  cp-0009.ckpt.index\n",
            "cp-0002.ckpt.index\t\t  cp-0010.ckpt.data-00000-of-00001\n",
            "cp-0003.ckpt.data-00000-of-00001  cp-0010.ckpt.index\n",
            "cp-0003.ckpt.index\t\t  cp-0011.ckpt.data-00000-of-00001\n",
            "cp-0004.ckpt.data-00000-of-00001  cp-0011.ckpt.index\n",
            "cp-0004.ckpt.index\t\t  cp-0012.ckpt.data-00000-of-00001\n",
            "cp-0005.ckpt.data-00000-of-00001  cp-0012.ckpt.index\n",
            "cp-0005.ckpt.index\t\t  cp.ckpt.data-00000-of-00001\n",
            "cp-0006.ckpt.data-00000-of-00001  cp.ckpt.index\n",
            "cp-0006.ckpt.index\n"
          ],
          "name": "stdout"
        }
      ]
    },
    {
      "cell_type": "code",
      "metadata": {
        "colab": {
          "base_uri": "https://localhost:8080/",
          "height": 35
        },
        "id": "n__3QwoWxy4E",
        "outputId": "8c4bb5ca-c601-44b9-dab0-f59042bb42a2"
      },
      "source": [
        "latest_checkpoint = tf.train.latest_checkpoint(checkpoint_dir)\r\n",
        "latest_checkpoint"
      ],
      "execution_count": 39,
      "outputs": [
        {
          "output_type": "execute_result",
          "data": {
            "application/vnd.google.colaboratory.intrinsic+json": {
              "type": "string"
            },
            "text/plain": [
              "'checkpoints/cp-0012.ckpt'"
            ]
          },
          "metadata": {
            "tags": []
          },
          "execution_count": 39
        }
      ]
    },
    {
      "cell_type": "markdown",
      "metadata": {
        "id": "6G5QqbPvyO4k"
      },
      "source": [
        "## Restore latest checkpoint"
      ]
    },
    {
      "cell_type": "code",
      "metadata": {
        "colab": {
          "base_uri": "https://localhost:8080/"
        },
        "id": "xI1NeZQQyAdg",
        "outputId": "b280b7f0-c5bb-4ef2-baa5-853e86525aae"
      },
      "source": [
        "with strategy.scope():\r\n",
        "    latest_cp_model = create_xception_ft_model(\r\n",
        "        dataset_config.image_size, num_classes\r\n",
        "    )\r\n",
        "\r\n",
        "loss, acc = latest_cp_model.evaluate(validation_dataset, verbose=2)\r\n",
        "print(f\"Untrained model, accuracy {acc * 100:5.2f}\")"
      ],
      "execution_count": 41,
      "outputs": [
        {
          "output_type": "stream",
          "text": [
            "6/6 - 13s - loss: 1.6233 - accuracy: 0.1956\n",
            "Untrained model, accuracy 19.56\n"
          ],
          "name": "stdout"
        }
      ]
    },
    {
      "cell_type": "code",
      "metadata": {
        "colab": {
          "base_uri": "https://localhost:8080/"
        },
        "id": "ea9X9DAKyte5",
        "outputId": "445f749f-8f34-4d1b-c7a3-f3530970c81c"
      },
      "source": [
        "with strategy.scope():\r\n",
        "    latest_cp_model.load_weights(checkpoint_config.path, options=options)\r\n",
        "\r\n",
        "loss, acc = latest_cp_model.evaluate(validation_dataset, verbose=2)\r\n",
        "print(f\"Restored model, accuracy {acc * 100:5.2f}\")"
      ],
      "execution_count": 42,
      "outputs": [
        {
          "output_type": "stream",
          "text": [
            "6/6 - 2s - loss: 0.1106 - accuracy: 0.9691\n",
            "Restored model, accuracy 96.91\n"
          ],
          "name": "stdout"
        }
      ]
    }
  ]
}